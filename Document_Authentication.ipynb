{
 "cells": [
  {
   "cell_type": "code",
   "execution_count": 2,
   "id": "f3413225",
   "metadata": {
    "execution": {
     "iopub.execute_input": "2024-04-12T08:19:50.307005Z",
     "iopub.status.busy": "2024-04-12T08:19:50.306491Z",
     "iopub.status.idle": "2024-04-12T08:20:05.253398Z",
     "shell.execute_reply": "2024-04-12T08:20:05.252646Z"
    },
    "papermill": {
     "duration": 14.9562,
     "end_time": "2024-04-12T08:20:05.255844",
     "exception": false,
     "start_time": "2024-04-12T08:19:50.299644",
     "status": "completed"
    },
    "tags": []
   },
   "outputs": [
    {
     "name": "stderr",
     "output_type": "stream",
     "text": [
      "2024-04-12 08:19:53.631363: E external/local_xla/xla/stream_executor/cuda/cuda_dnn.cc:9261] Unable to register cuDNN factory: Attempting to register factory for plugin cuDNN when one has already been registered\n",
      "2024-04-12 08:19:53.631471: E external/local_xla/xla/stream_executor/cuda/cuda_fft.cc:607] Unable to register cuFFT factory: Attempting to register factory for plugin cuFFT when one has already been registered\n",
      "2024-04-12 08:19:53.789041: E external/local_xla/xla/stream_executor/cuda/cuda_blas.cc:1515] Unable to register cuBLAS factory: Attempting to register factory for plugin cuBLAS when one has already been registered\n"
     ]
    }
   ],
   "source": [
    "import os\n",
    "import numpy as np\n",
    "from PIL import Image\n",
    "from sklearn.model_selection import train_test_split\n",
    "from tensorflow.keras.models import Sequential, Model\n",
    "from tensorflow.keras.layers import Conv2D, MaxPooling2D, Flatten, Dense, Dropout, Concatenate\n",
    "from tensorflow.keras.preprocessing.image import ImageDataGenerator"
   ]
  },
  {
   "cell_type": "code",
   "execution_count": 3,
   "id": "a0c31d82",
   "metadata": {
    "execution": {
     "iopub.execute_input": "2024-04-12T08:20:05.269719Z",
     "iopub.status.busy": "2024-04-12T08:20:05.269172Z",
     "iopub.status.idle": "2024-04-12T08:20:05.273491Z",
     "shell.execute_reply": "2024-04-12T08:20:05.272646Z"
    },
    "papermill": {
     "duration": 0.013338,
     "end_time": "2024-04-12T08:20:05.275587",
     "exception": false,
     "start_time": "2024-04-12T08:20:05.262249",
     "status": "completed"
    },
    "tags": []
   },
   "outputs": [],
   "source": [
    "# Define the paths to the authentic and tempered image folders\n",
    "authentic_path = '/kaggle/input/casia-20-image-tampering-detection-dataset/CASIA2/Au'\n",
    "tempered_path = '/kaggle/input/casia-20-image-tampering-detection-dataset/CASIA2/Tp'\n",
    "# groundtruth_path = '/kaggle/input/casia-20-image-tampering-detection-dataset/CASIA2/CASIA 2 Groundtruth'"
   ]
  },
  {
   "cell_type": "code",
   "execution_count": 4,
   "id": "ea6422bd",
   "metadata": {
    "execution": {
     "iopub.execute_input": "2024-04-12T08:20:05.288218Z",
     "iopub.status.busy": "2024-04-12T08:20:05.287919Z",
     "iopub.status.idle": "2024-04-12T08:20:05.965293Z",
     "shell.execute_reply": "2024-04-12T08:20:05.964509Z"
    },
    "papermill": {
     "duration": 0.686516,
     "end_time": "2024-04-12T08:20:05.967824",
     "exception": false,
     "start_time": "2024-04-12T08:20:05.281308",
     "status": "completed"
    },
    "tags": []
   },
   "outputs": [],
   "source": [
    "# Load the authentic and tempered images\n",
    "authentic_images = [os.path.join(authentic_path, f) for f in os.listdir(authentic_path) if f.endswith('.jpg')]\n",
    "tempered_images = [os.path.join(tempered_path, f) for f in os.listdir(tempered_path) if f.endswith('.jpg')]\n",
    "# groundtruth_images = [os.path.join(groundtruth_path, f) for f in os.listdir(groundtruth_path) if f.endswith('.jpg')]\n"
   ]
  },
  {
   "cell_type": "code",
   "execution_count": 5,
   "id": "ace8a7b0",
   "metadata": {
    "execution": {
     "iopub.execute_input": "2024-04-12T08:20:05.980497Z",
     "iopub.status.busy": "2024-04-12T08:20:05.980191Z",
     "iopub.status.idle": "2024-04-12T08:20:05.985078Z",
     "shell.execute_reply": "2024-04-12T08:20:05.984250Z"
    },
    "papermill": {
     "duration": 0.013372,
     "end_time": "2024-04-12T08:20:05.987084",
     "exception": false,
     "start_time": "2024-04-12T08:20:05.973712",
     "status": "completed"
    },
    "tags": []
   },
   "outputs": [],
   "source": [
    "# Create the labels\n",
    "y_authentic = np.zeros(len(authentic_images))\n",
    "y_tempered = np.ones(len(tempered_images))\n",
    "# Combine the images and labels\n",
    "X = authentic_images + tempered_images\n",
    "y = np.concatenate((y_authentic, y_tempered))"
   ]
  },
  {
   "cell_type": "code",
   "execution_count": 6,
   "id": "d234eab1",
   "metadata": {
    "execution": {
     "iopub.execute_input": "2024-04-12T08:20:05.999563Z",
     "iopub.status.busy": "2024-04-12T08:20:05.999297Z",
     "iopub.status.idle": "2024-04-12T08:20:06.010126Z",
     "shell.execute_reply": "2024-04-12T08:20:06.009442Z"
    },
    "papermill": {
     "duration": 0.019217,
     "end_time": "2024-04-12T08:20:06.012046",
     "exception": false,
     "start_time": "2024-04-12T08:20:05.992829",
     "status": "completed"
    },
    "tags": []
   },
   "outputs": [],
   "source": [
    "# Split the data into training and validation sets\n",
    "X_train, X_val, y_train, y_val = train_test_split(X, y, test_size=0.2, random_state=42)\n"
   ]
  },
  {
   "cell_type": "code",
   "execution_count": 7,
   "id": "aea7341e",
   "metadata": {
    "execution": {
     "iopub.execute_input": "2024-04-12T08:20:06.024056Z",
     "iopub.status.busy": "2024-04-12T08:20:06.023809Z",
     "iopub.status.idle": "2024-04-12T08:20:06.028344Z",
     "shell.execute_reply": "2024-04-12T08:20:06.027412Z"
    },
    "papermill": {
     "duration": 0.012621,
     "end_time": "2024-04-12T08:20:06.030327",
     "exception": false,
     "start_time": "2024-04-12T08:20:06.017706",
     "status": "completed"
    },
    "tags": []
   },
   "outputs": [],
   "source": [
    "# Define the data augmentation parameters\n",
    "data_augmentation = ImageDataGenerator(\n",
    "    rotation_range=20,\n",
    "    width_shift_range=0.2,\n",
    "    height_shift_range=0.2,\n",
    "    shear_range=0.2,\n",
    "    zoom_range=0.2,\n",
    "    horizontal_flip=True,\n",
    "    vertical_flip=True,\n",
    "    fill_mode='nearest'\n",
    ")"
   ]
  },
  {
   "cell_type": "code",
   "execution_count": 8,
   "id": "23e7e9e6",
   "metadata": {
    "execution": {
     "iopub.execute_input": "2024-04-12T08:20:06.042232Z",
     "iopub.status.busy": "2024-04-12T08:20:06.041968Z",
     "iopub.status.idle": "2024-04-12T08:21:52.402755Z",
     "shell.execute_reply": "2024-04-12T08:21:52.401896Z"
    },
    "papermill": {
     "duration": 106.369811,
     "end_time": "2024-04-12T08:21:52.405469",
     "exception": false,
     "start_time": "2024-04-12T08:20:06.035658",
     "status": "completed"
    },
    "tags": []
   },
   "outputs": [],
   "source": [
    "# Preprocess the images\n",
    "def preprocess_image(img_path, input_shape):\n",
    "    img = Image.open(img_path)\n",
    "    img = img.resize(input_shape[:2])\n",
    "    img = np.array(img) / 255.0  # Normalize the pixel values\n",
    "    return img\n",
    "\n",
    "input_shape = (224, 224, 3)\n",
    "X_train = np.array([preprocess_image(img_path, input_shape) for img_path in X_train])\n",
    "X_val = np.array([preprocess_image(img_path, input_shape) for img_path in X_val])\n"
   ]
  },
  {
   "cell_type": "code",
   "execution_count": 9,
   "id": "7be2811b",
   "metadata": {
    "execution": {
     "iopub.execute_input": "2024-04-12T08:21:52.419455Z",
     "iopub.status.busy": "2024-04-12T08:21:52.418893Z",
     "iopub.status.idle": "2024-04-12T08:21:54.104477Z",
     "shell.execute_reply": "2024-04-12T08:21:54.103417Z"
    },
    "papermill": {
     "duration": 1.695592,
     "end_time": "2024-04-12T08:21:54.107043",
     "exception": false,
     "start_time": "2024-04-12T08:21:52.411451",
     "status": "completed"
    },
    "tags": []
   },
   "outputs": [],
   "source": [
    "# Create the data generator for the training set\n",
    "train_generator = data_augmentation.flow(X_train, y_train, batch_size=32)"
   ]
  },
  {
   "cell_type": "code",
   "execution_count": 10,
   "id": "adc33a36",
   "metadata": {
    "execution": {
     "iopub.execute_input": "2024-04-12T08:21:54.119886Z",
     "iopub.status.busy": "2024-04-12T08:21:54.119539Z",
     "iopub.status.idle": "2024-04-12T08:21:54.128950Z",
     "shell.execute_reply": "2024-04-12T08:21:54.127961Z"
    },
    "papermill": {
     "duration": 0.018009,
     "end_time": "2024-04-12T08:21:54.130878",
     "exception": false,
     "start_time": "2024-04-12T08:21:54.112869",
     "status": "completed"
    },
    "tags": []
   },
   "outputs": [],
   "source": [
    "# Define the RDCN model\n",
    "def create_rdcn_model(input_shape):\n",
    "    model = Sequential()\n",
    "    model.add(Conv2D(32, (3, 3), activation='relu', input_shape=input_shape))\n",
    "    model.add(MaxPooling2D((2, 2)))\n",
    "    model.add(Conv2D(64, (3, 3), activation='relu'))\n",
    "    model.add(MaxPooling2D((2, 2)))\n",
    "    model.add(Conv2D(128, (3, 3), activation='relu'))\n",
    "    model.add(MaxPooling2D((2, 2)))\n",
    "    model.add(Flatten())\n",
    "    model.add(Dense(128, activation='relu'))\n",
    "    model.add(Dropout(0.5))\n",
    "    model.add(Dense(64, activation='relu'))\n",
    "    model.add(Dropout(0.5))\n",
    "    model.add(Dense(1, activation='sigmoid'))\n",
    "\n",
    "    model.compile(optimizer='adam', loss='binary_crossentropy', metrics=['accuracy'])\n",
    "    return model\n",
    "\n"
   ]
  },
  {
   "cell_type": "code",
   "execution_count": 12,
   "id": "345f29ba",
   "metadata": {
    "execution": {
     "iopub.execute_input": "2024-04-12T08:21:54.162005Z",
     "iopub.status.busy": "2024-04-12T08:21:54.161740Z",
     "iopub.status.idle": "2024-04-12T08:52:53.403615Z",
     "shell.execute_reply": "2024-04-12T08:52:53.402760Z"
    },
    "papermill": {
     "duration": 1859.250264,
     "end_time": "2024-04-12T08:52:53.405925",
     "exception": false,
     "start_time": "2024-04-12T08:21:54.155661",
     "status": "completed"
    },
    "tags": []
   },
   "outputs": [
    {
     "name": "stderr",
     "output_type": "stream",
     "text": [
      "/opt/conda/lib/python3.10/site-packages/keras/src/layers/convolutional/base_conv.py:99: UserWarning: Do not pass an `input_shape`/`input_dim` argument to a layer. When using Sequential models, prefer using an `Input(shape)` object as the first layer in the model instead.\n",
      "  super().__init__(\n"
     ]
    },
    {
     "name": "stdout",
     "output_type": "stream",
     "text": [
      "Epoch 1/50\n"
     ]
    },
    {
     "name": "stderr",
     "output_type": "stream",
     "text": [
      "/opt/conda/lib/python3.10/site-packages/keras/src/trainers/data_adapters/py_dataset_adapter.py:120: UserWarning: Your `PyDataset` class should call `super().__init__(**kwargs)` in its constructor. `**kwargs` can include `workers`, `use_multiprocessing`, `max_queue_size`. Do not pass these arguments to `fit()`, as they will be ignored.\n",
      "  self._warn_if_super_not_called()\n"
     ]
    },
    {
     "name": "stdout",
     "output_type": "stream",
     "text": [
      "\u001b[1m  2/237\u001b[0m \u001b[37m━━━━━━━━━━━━━━━━━━━━\u001b[0m \u001b[1m14s\u001b[0m 64ms/step - accuracy: 0.6094 - loss: 0.7817   "
     ]
    },
    {
     "name": "stderr",
     "output_type": "stream",
     "text": [
      "WARNING: All log messages before absl::InitializeLog() is called are written to STDERR\n",
      "I0000 00:00:1712910130.900480      73 device_compiler.h:186] Compiled cluster using XLA!  This line is logged at most once for the lifetime of the process.\n",
      "W0000 00:00:1712910130.917704      73 graph_launch.cc:671] Fallback to op-by-op mode because memset node breaks graph update\n"
     ]
    },
    {
     "name": "stdout",
     "output_type": "stream",
     "text": [
      "\u001b[1m237/237\u001b[0m \u001b[32m━━━━━━━━━━━━━━━━━━━━\u001b[0m\u001b[37m\u001b[0m \u001b[1m0s\u001b[0m 320ms/step - accuracy: 0.7633 - loss: 0.5724"
     ]
    },
    {
     "name": "stderr",
     "output_type": "stream",
     "text": [
      "W0000 00:00:1712910209.782616      71 graph_launch.cc:671] Fallback to op-by-op mode because memset node breaks graph update\n"
     ]
    },
    {
     "name": "stdout",
     "output_type": "stream",
     "text": [
      "\u001b[1m237/237\u001b[0m \u001b[32m━━━━━━━━━━━━━━━━━━━━\u001b[0m\u001b[37m\u001b[0m \u001b[1m97s\u001b[0m 345ms/step - accuracy: 0.7633 - loss: 0.5723 - val_accuracy: 0.7833 - val_loss: 0.5146\n",
      "Epoch 2/50\n",
      "\u001b[1m  1/237\u001b[0m \u001b[37m━━━━━━━━━━━━━━━━━━━━\u001b[0m \u001b[1m9s\u001b[0m 41ms/step - accuracy: 0.7812 - loss: 0.4689"
     ]
    },
    {
     "name": "stderr",
     "output_type": "stream",
     "text": [
      "/opt/conda/lib/python3.10/contextlib.py:153: UserWarning: Your input ran out of data; interrupting training. Make sure that your dataset or generator can generate at least `steps_per_epoch * epochs` batches. You may need to use the `.repeat()` function when building your dataset.\n",
      "  self.gen.throw(typ, value, traceback)\n"
     ]
    },
    {
     "name": "stdout",
     "output_type": "stream",
     "text": [
      "\u001b[1m237/237\u001b[0m \u001b[32m━━━━━━━━━━━━━━━━━━━━\u001b[0m\u001b[37m\u001b[0m \u001b[1m1s\u001b[0m 4ms/step - accuracy: 0.7812 - loss: 0.4689 - val_accuracy: 0.7833 - val_loss: 0.5169\n",
      "Epoch 3/50\n",
      "\u001b[1m237/237\u001b[0m \u001b[32m━━━━━━━━━━━━━━━━━━━━\u001b[0m\u001b[37m\u001b[0m \u001b[1m72s\u001b[0m 295ms/step - accuracy: 0.7871 - loss: 0.5246 - val_accuracy: 0.7833 - val_loss: 0.5139\n",
      "Epoch 4/50\n",
      "\u001b[1m237/237\u001b[0m \u001b[32m━━━━━━━━━━━━━━━━━━━━\u001b[0m\u001b[37m\u001b[0m \u001b[1m1s\u001b[0m 4ms/step - accuracy: 0.6875 - loss: 0.6057 - val_accuracy: 0.7833 - val_loss: 0.5139\n",
      "Epoch 5/50\n",
      "\u001b[1m237/237\u001b[0m \u001b[32m━━━━━━━━━━━━━━━━━━━━\u001b[0m\u001b[37m\u001b[0m \u001b[1m73s\u001b[0m 298ms/step - accuracy: 0.7849 - loss: 0.5160 - val_accuracy: 0.7833 - val_loss: 0.5233\n",
      "Epoch 6/50\n",
      "\u001b[1m237/237\u001b[0m \u001b[32m━━━━━━━━━━━━━━━━━━━━\u001b[0m\u001b[37m\u001b[0m \u001b[1m1s\u001b[0m 4ms/step - accuracy: 0.6875 - loss: 0.6275 - val_accuracy: 0.7833 - val_loss: 0.5223\n",
      "Epoch 7/50\n",
      "\u001b[1m237/237\u001b[0m \u001b[32m━━━━━━━━━━━━━━━━━━━━\u001b[0m\u001b[37m\u001b[0m \u001b[1m73s\u001b[0m 297ms/step - accuracy: 0.7825 - loss: 0.5159 - val_accuracy: 0.7833 - val_loss: 0.5050\n",
      "Epoch 8/50\n",
      "\u001b[1m237/237\u001b[0m \u001b[32m━━━━━━━━━━━━━━━━━━━━\u001b[0m\u001b[37m\u001b[0m \u001b[1m1s\u001b[0m 4ms/step - accuracy: 0.8438 - loss: 0.4264 - val_accuracy: 0.7833 - val_loss: 0.5041\n",
      "Epoch 9/50\n",
      "\u001b[1m237/237\u001b[0m \u001b[32m━━━━━━━━━━━━━━━━━━━━\u001b[0m\u001b[37m\u001b[0m \u001b[1m73s\u001b[0m 297ms/step - accuracy: 0.7830 - loss: 0.5125 - val_accuracy: 0.7833 - val_loss: 0.5029\n",
      "Epoch 10/50\n",
      "\u001b[1m237/237\u001b[0m \u001b[32m━━━━━━━━━━━━━━━━━━━━\u001b[0m\u001b[37m\u001b[0m \u001b[1m1s\u001b[0m 4ms/step - accuracy: 0.8438 - loss: 0.3923 - val_accuracy: 0.7833 - val_loss: 0.5014\n",
      "Epoch 11/50\n",
      "\u001b[1m237/237\u001b[0m \u001b[32m━━━━━━━━━━━━━━━━━━━━\u001b[0m\u001b[37m\u001b[0m \u001b[1m72s\u001b[0m 295ms/step - accuracy: 0.7867 - loss: 0.5091 - val_accuracy: 0.7833 - val_loss: 0.5036\n",
      "Epoch 12/50\n",
      "\u001b[1m237/237\u001b[0m \u001b[32m━━━━━━━━━━━━━━━━━━━━\u001b[0m\u001b[37m\u001b[0m \u001b[1m1s\u001b[0m 4ms/step - accuracy: 0.8125 - loss: 0.4463 - val_accuracy: 0.7833 - val_loss: 0.5037\n",
      "Epoch 13/50\n",
      "\u001b[1m237/237\u001b[0m \u001b[32m━━━━━━━━━━━━━━━━━━━━\u001b[0m\u001b[37m\u001b[0m \u001b[1m73s\u001b[0m 297ms/step - accuracy: 0.7863 - loss: 0.5023 - val_accuracy: 0.7833 - val_loss: 0.5085\n",
      "Epoch 14/50\n",
      "\u001b[1m237/237\u001b[0m \u001b[32m━━━━━━━━━━━━━━━━━━━━\u001b[0m\u001b[37m\u001b[0m \u001b[1m1s\u001b[0m 4ms/step - accuracy: 0.9375 - loss: 0.3347 - val_accuracy: 0.7833 - val_loss: 0.5095\n",
      "Epoch 15/50\n",
      "\u001b[1m237/237\u001b[0m \u001b[32m━━━━━━━━━━━━━━━━━━━━\u001b[0m\u001b[37m\u001b[0m \u001b[1m72s\u001b[0m 296ms/step - accuracy: 0.7736 - loss: 0.5155 - val_accuracy: 0.7833 - val_loss: 0.4989\n",
      "Epoch 16/50\n",
      "\u001b[1m237/237\u001b[0m \u001b[32m━━━━━━━━━━━━━━━━━━━━\u001b[0m\u001b[37m\u001b[0m \u001b[1m1s\u001b[0m 4ms/step - accuracy: 0.8125 - loss: 0.4968 - val_accuracy: 0.7833 - val_loss: 0.4992\n",
      "Epoch 17/50\n",
      "\u001b[1m237/237\u001b[0m \u001b[32m━━━━━━━━━━━━━━━━━━━━\u001b[0m\u001b[37m\u001b[0m \u001b[1m72s\u001b[0m 295ms/step - accuracy: 0.7884 - loss: 0.4954 - val_accuracy: 0.7843 - val_loss: 0.5142\n",
      "Epoch 18/50\n",
      "\u001b[1m237/237\u001b[0m \u001b[32m━━━━━━━━━━━━━━━━━━━━\u001b[0m\u001b[37m\u001b[0m \u001b[1m1s\u001b[0m 4ms/step - accuracy: 0.6875 - loss: 0.5396 - val_accuracy: 0.7833 - val_loss: 0.5067\n",
      "Epoch 19/50\n",
      "\u001b[1m237/237\u001b[0m \u001b[32m━━━━━━━━━━━━━━━━━━━━\u001b[0m\u001b[37m\u001b[0m \u001b[1m72s\u001b[0m 295ms/step - accuracy: 0.7831 - loss: 0.4971 - val_accuracy: 0.7833 - val_loss: 0.4822\n",
      "Epoch 20/50\n",
      "\u001b[1m237/237\u001b[0m \u001b[32m━━━━━━━━━━━━━━━━━━━━\u001b[0m\u001b[37m\u001b[0m \u001b[1m1s\u001b[0m 4ms/step - accuracy: 0.7812 - loss: 0.4556 - val_accuracy: 0.7849 - val_loss: 0.4899\n",
      "Epoch 21/50\n",
      "\u001b[1m237/237\u001b[0m \u001b[32m━━━━━━━━━━━━━━━━━━━━\u001b[0m\u001b[37m\u001b[0m \u001b[1m72s\u001b[0m 295ms/step - accuracy: 0.7746 - loss: 0.4994 - val_accuracy: 0.7827 - val_loss: 0.4852\n",
      "Epoch 22/50\n",
      "\u001b[1m237/237\u001b[0m \u001b[32m━━━━━━━━━━━━━━━━━━━━\u001b[0m\u001b[37m\u001b[0m \u001b[1m1s\u001b[0m 4ms/step - accuracy: 0.8438 - loss: 0.4699 - val_accuracy: 0.7827 - val_loss: 0.4845\n",
      "Epoch 23/50\n",
      "\u001b[1m237/237\u001b[0m \u001b[32m━━━━━━━━━━━━━━━━━━━━\u001b[0m\u001b[37m\u001b[0m \u001b[1m73s\u001b[0m 298ms/step - accuracy: 0.7743 - loss: 0.4926 - val_accuracy: 0.7843 - val_loss: 0.4669\n",
      "Epoch 24/50\n",
      "\u001b[1m237/237\u001b[0m \u001b[32m━━━━━━━━━━━━━━━━━━━━\u001b[0m\u001b[37m\u001b[0m \u001b[1m1s\u001b[0m 4ms/step - accuracy: 0.8438 - loss: 0.3924 - val_accuracy: 0.7843 - val_loss: 0.4667\n",
      "Epoch 25/50\n",
      "\u001b[1m237/237\u001b[0m \u001b[32m━━━━━━━━━━━━━━━━━━━━\u001b[0m\u001b[37m\u001b[0m \u001b[1m72s\u001b[0m 296ms/step - accuracy: 0.7846 - loss: 0.4814 - val_accuracy: 0.7822 - val_loss: 0.4767\n",
      "Epoch 26/50\n",
      "\u001b[1m237/237\u001b[0m \u001b[32m━━━━━━━━━━━━━━━━━━━━\u001b[0m\u001b[37m\u001b[0m \u001b[1m1s\u001b[0m 4ms/step - accuracy: 0.7500 - loss: 0.4689 - val_accuracy: 0.7812 - val_loss: 0.4730\n",
      "Epoch 27/50\n",
      "\u001b[1m237/237\u001b[0m \u001b[32m━━━━━━━━━━━━━━━━━━━━\u001b[0m\u001b[37m\u001b[0m \u001b[1m72s\u001b[0m 294ms/step - accuracy: 0.7834 - loss: 0.4820 - val_accuracy: 0.7870 - val_loss: 0.4603\n",
      "Epoch 28/50\n",
      "\u001b[1m237/237\u001b[0m \u001b[32m━━━━━━━━━━━━━━━━━━━━\u001b[0m\u001b[37m\u001b[0m \u001b[1m1s\u001b[0m 4ms/step - accuracy: 0.8750 - loss: 0.4193 - val_accuracy: 0.7864 - val_loss: 0.4610\n",
      "Epoch 29/50\n",
      "\u001b[1m237/237\u001b[0m \u001b[32m━━━━━━━━━━━━━━━━━━━━\u001b[0m\u001b[37m\u001b[0m \u001b[1m72s\u001b[0m 295ms/step - accuracy: 0.7812 - loss: 0.4783 - val_accuracy: 0.7859 - val_loss: 0.4543\n",
      "Epoch 30/50\n",
      "\u001b[1m237/237\u001b[0m \u001b[32m━━━━━━━━━━━━━━━━━━━━\u001b[0m\u001b[37m\u001b[0m \u001b[1m1s\u001b[0m 4ms/step - accuracy: 0.7812 - loss: 0.4669 - val_accuracy: 0.7864 - val_loss: 0.4541\n",
      "Epoch 31/50\n",
      "\u001b[1m237/237\u001b[0m \u001b[32m━━━━━━━━━━━━━━━━━━━━\u001b[0m\u001b[37m\u001b[0m \u001b[1m72s\u001b[0m 294ms/step - accuracy: 0.7827 - loss: 0.4689 - val_accuracy: 0.7891 - val_loss: 0.4520\n",
      "Epoch 32/50\n",
      "\u001b[1m237/237\u001b[0m \u001b[32m━━━━━━━━━━━━━━━━━━━━\u001b[0m\u001b[37m\u001b[0m \u001b[1m1s\u001b[0m 4ms/step - accuracy: 0.6875 - loss: 0.5783 - val_accuracy: 0.7896 - val_loss: 0.4528\n",
      "Epoch 33/50\n",
      "\u001b[1m237/237\u001b[0m \u001b[32m━━━━━━━━━━━━━━━━━━━━\u001b[0m\u001b[37m\u001b[0m \u001b[1m72s\u001b[0m 295ms/step - accuracy: 0.7924 - loss: 0.4612 - val_accuracy: 0.7875 - val_loss: 0.4401\n",
      "Epoch 34/50\n",
      "\u001b[1m237/237\u001b[0m \u001b[32m━━━━━━━━━━━━━━━━━━━━\u001b[0m\u001b[37m\u001b[0m \u001b[1m1s\u001b[0m 4ms/step - accuracy: 0.8438 - loss: 0.4049 - val_accuracy: 0.7864 - val_loss: 0.4502\n",
      "Epoch 35/50\n",
      "\u001b[1m237/237\u001b[0m \u001b[32m━━━━━━━━━━━━━━━━━━━━\u001b[0m\u001b[37m\u001b[0m \u001b[1m72s\u001b[0m 296ms/step - accuracy: 0.7860 - loss: 0.4659 - val_accuracy: 0.7875 - val_loss: 0.4565\n",
      "Epoch 36/50\n",
      "\u001b[1m237/237\u001b[0m \u001b[32m━━━━━━━━━━━━━━━━━━━━\u001b[0m\u001b[37m\u001b[0m \u001b[1m1s\u001b[0m 4ms/step - accuracy: 0.8438 - loss: 0.3565 - val_accuracy: 0.7880 - val_loss: 0.4530\n",
      "Epoch 37/50\n",
      "\u001b[1m237/237\u001b[0m \u001b[32m━━━━━━━━━━━━━━━━━━━━\u001b[0m\u001b[37m\u001b[0m \u001b[1m72s\u001b[0m 295ms/step - accuracy: 0.7841 - loss: 0.4590 - val_accuracy: 0.7917 - val_loss: 0.4464\n",
      "Epoch 38/50\n",
      "\u001b[1m237/237\u001b[0m \u001b[32m━━━━━━━━━━━━━━━━━━━━\u001b[0m\u001b[37m\u001b[0m \u001b[1m1s\u001b[0m 4ms/step - accuracy: 0.7188 - loss: 0.5418 - val_accuracy: 0.7901 - val_loss: 0.4450\n",
      "Epoch 39/50\n",
      "\u001b[1m237/237\u001b[0m \u001b[32m━━━━━━━━━━━━━━━━━━━━\u001b[0m\u001b[37m\u001b[0m \u001b[1m73s\u001b[0m 297ms/step - accuracy: 0.7879 - loss: 0.4561 - val_accuracy: 0.7864 - val_loss: 0.4413\n",
      "Epoch 40/50\n",
      "\u001b[1m237/237\u001b[0m \u001b[32m━━━━━━━━━━━━━━━━━━━━\u001b[0m\u001b[37m\u001b[0m \u001b[1m1s\u001b[0m 4ms/step - accuracy: 0.8125 - loss: 0.5005 - val_accuracy: 0.7870 - val_loss: 0.4476\n",
      "Epoch 41/50\n",
      "\u001b[1m237/237\u001b[0m \u001b[32m━━━━━━━━━━━━━━━━━━━━\u001b[0m\u001b[37m\u001b[0m \u001b[1m73s\u001b[0m 297ms/step - accuracy: 0.7820 - loss: 0.4506 - val_accuracy: 0.7864 - val_loss: 0.4580\n",
      "Epoch 42/50\n",
      "\u001b[1m237/237\u001b[0m \u001b[32m━━━━━━━━━━━━━━━━━━━━\u001b[0m\u001b[37m\u001b[0m \u001b[1m1s\u001b[0m 4ms/step - accuracy: 0.8125 - loss: 0.4937 - val_accuracy: 0.7870 - val_loss: 0.4574\n",
      "Epoch 43/50\n",
      "\u001b[1m237/237\u001b[0m \u001b[32m━━━━━━━━━━━━━━━━━━━━\u001b[0m\u001b[37m\u001b[0m \u001b[1m72s\u001b[0m 296ms/step - accuracy: 0.7852 - loss: 0.4747 - val_accuracy: 0.7859 - val_loss: 0.4645\n",
      "Epoch 44/50\n",
      "\u001b[1m237/237\u001b[0m \u001b[32m━━━━━━━━━━━━━━━━━━━━\u001b[0m\u001b[37m\u001b[0m \u001b[1m1s\u001b[0m 4ms/step - accuracy: 0.6562 - loss: 0.6731 - val_accuracy: 0.7854 - val_loss: 0.4637\n",
      "Epoch 45/50\n",
      "\u001b[1m237/237\u001b[0m \u001b[32m━━━━━━━━━━━━━━━━━━━━\u001b[0m\u001b[37m\u001b[0m \u001b[1m72s\u001b[0m 295ms/step - accuracy: 0.7861 - loss: 0.4710 - val_accuracy: 0.7896 - val_loss: 0.4299\n",
      "Epoch 46/50\n",
      "\u001b[1m237/237\u001b[0m \u001b[32m━━━━━━━━━━━━━━━━━━━━\u001b[0m\u001b[37m\u001b[0m \u001b[1m1s\u001b[0m 4ms/step - accuracy: 0.8125 - loss: 0.3961 - val_accuracy: 0.7896 - val_loss: 0.4291\n",
      "Epoch 47/50\n",
      "\u001b[1m237/237\u001b[0m \u001b[32m━━━━━━━━━━━━━━━━━━━━\u001b[0m\u001b[37m\u001b[0m \u001b[1m72s\u001b[0m 296ms/step - accuracy: 0.7872 - loss: 0.4640 - val_accuracy: 0.7859 - val_loss: 0.4358\n",
      "Epoch 48/50\n",
      "\u001b[1m237/237\u001b[0m \u001b[32m━━━━━━━━━━━━━━━━━━━━\u001b[0m\u001b[37m\u001b[0m \u001b[1m1s\u001b[0m 4ms/step - accuracy: 0.5938 - loss: 0.5835 - val_accuracy: 0.7880 - val_loss: 0.4274\n",
      "Epoch 49/50\n",
      "\u001b[1m237/237\u001b[0m \u001b[32m━━━━━━━━━━━━━━━━━━━━\u001b[0m\u001b[37m\u001b[0m \u001b[1m72s\u001b[0m 297ms/step - accuracy: 0.7861 - loss: 0.4443 - val_accuracy: 0.7896 - val_loss: 0.4181\n",
      "Epoch 50/50\n",
      "\u001b[1m237/237\u001b[0m \u001b[32m━━━━━━━━━━━━━━━━━━━━\u001b[0m\u001b[37m\u001b[0m \u001b[1m1s\u001b[0m 4ms/step - accuracy: 0.7188 - loss: 0.5387 - val_accuracy: 0.7906 - val_loss: 0.4165\n"
     ]
    },
    {
     "data": {
      "text/plain": [
       "<keras.src.callbacks.history.History at 0x7fcfcce08910>"
      ]
     },
     "execution_count": 12,
     "metadata": {},
     "output_type": "execute_result"
    }
   ],
   "source": [
    "# Train the RDCN model\n",
    "rdcn_model = create_rdcn_model(input_shape)\n",
    "rdcn_model.fit(train_generator, validation_data=(X_val, y_val), epochs=50, steps_per_epoch=len(X_train) // 32)\n"
   ]
  },
  {
   "cell_type": "code",
   "execution_count": 17,
   "id": "8beaf6c5",
   "metadata": {
    "execution": {
     "iopub.execute_input": "2024-04-12T08:52:58.647297Z",
     "iopub.status.busy": "2024-04-12T08:52:58.646939Z",
     "iopub.status.idle": "2024-04-12T08:53:02.563287Z",
     "shell.execute_reply": "2024-04-12T08:53:02.562350Z"
    },
    "papermill": {
     "duration": 4.468615,
     "end_time": "2024-04-12T08:53:02.565210",
     "exception": false,
     "start_time": "2024-04-12T08:52:58.096595",
     "status": "completed"
    },
    "tags": []
   },
   "outputs": [
    {
     "name": "stdout",
     "output_type": "stream",
     "text": [
      "\u001b[1m60/60\u001b[0m \u001b[32m━━━━━━━━━━━━━━━━━━━━\u001b[0m\u001b[37m\u001b[0m \u001b[1m1s\u001b[0m 17ms/step - accuracy: 0.7629 - loss: 0.4437\n",
      "RDCN Validation Loss: 0.4165, Validation Accuracy: 0.7906\n"
     ]
    }
   ],
   "source": [
    "# Evaluate the models\n",
    "rdcn_loss, rdcn_acc = rdcn_model.evaluate(X_val, y_val)\n",
    "# mfcn_loss, mfcn_acc = mfcn_model.evaluate(X_val, y_val)\n",
    "\n",
    "print(f'RDCN Validation Loss: {rdcn_loss:.4f}, Validation Accuracy: {rdcn_acc:.4f}')\n",
    "# print(f'MFCN Validation Loss: {mfcn_loss:.4f}, Validation Accuracy: {mfcn_acc:.4f}')"
   ]
  },
  {
   "cell_type": "code",
   "execution_count": 18,
   "id": "6d160e08",
   "metadata": {
    "execution": {
     "iopub.execute_input": "2024-04-12T08:53:03.575870Z",
     "iopub.status.busy": "2024-04-12T08:53:03.575037Z",
     "iopub.status.idle": "2024-04-12T09:24:55.933730Z",
     "shell.execute_reply": "2024-04-12T09:24:55.932737Z"
    },
    "papermill": {
     "duration": 1912.869085,
     "end_time": "2024-04-12T09:24:55.935839",
     "exception": false,
     "start_time": "2024-04-12T08:53:03.066754",
     "status": "completed"
    },
    "tags": []
   },
   "outputs": [
    {
     "name": "stdout",
     "output_type": "stream",
     "text": [
      "Epoch 1/50\n",
      "\u001b[1m237/237\u001b[0m \u001b[32m━━━━━━━━━━━━━━━━━━━━\u001b[0m\u001b[37m\u001b[0m \u001b[1m75s\u001b[0m 309ms/step - accuracy: 0.7854 - loss: 0.4428 - val_accuracy: 0.7938 - val_loss: 0.4788\n",
      "Epoch 2/50\n",
      "\u001b[1m237/237\u001b[0m \u001b[32m━━━━━━━━━━━━━━━━━━━━\u001b[0m\u001b[37m\u001b[0m \u001b[1m1s\u001b[0m 4ms/step - accuracy: 0.6250 - loss: 0.5493 - val_accuracy: 0.7938 - val_loss: 0.4705\n",
      "Epoch 3/50\n",
      "\u001b[1m237/237\u001b[0m \u001b[32m━━━━━━━━━━━━━━━━━━━━\u001b[0m\u001b[37m\u001b[0m \u001b[1m72s\u001b[0m 293ms/step - accuracy: 0.7829 - loss: 0.4419 - val_accuracy: 0.7975 - val_loss: 0.4027\n",
      "Epoch 4/50\n",
      "\u001b[1m237/237\u001b[0m \u001b[32m━━━━━━━━━━━━━━━━━━━━\u001b[0m\u001b[37m\u001b[0m \u001b[1m1s\u001b[0m 4ms/step - accuracy: 0.8438 - loss: 0.3868 - val_accuracy: 0.7975 - val_loss: 0.4029\n",
      "Epoch 5/50\n",
      "\u001b[1m237/237\u001b[0m \u001b[32m━━━━━━━━━━━━━━━━━━━━\u001b[0m\u001b[37m\u001b[0m \u001b[1m72s\u001b[0m 295ms/step - accuracy: 0.7882 - loss: 0.4416 - val_accuracy: 0.7933 - val_loss: 0.4021\n",
      "Epoch 6/50\n",
      "\u001b[1m237/237\u001b[0m \u001b[32m━━━━━━━━━━━━━━━━━━━━\u001b[0m\u001b[37m\u001b[0m \u001b[1m1s\u001b[0m 4ms/step - accuracy: 0.8125 - loss: 0.3479 - val_accuracy: 0.7927 - val_loss: 0.4018\n",
      "Epoch 7/50\n",
      "\u001b[1m237/237\u001b[0m \u001b[32m━━━━━━━━━━━━━━━━━━━━\u001b[0m\u001b[37m\u001b[0m \u001b[1m72s\u001b[0m 295ms/step - accuracy: 0.7873 - loss: 0.4292 - val_accuracy: 0.7954 - val_loss: 0.4242\n",
      "Epoch 8/50\n",
      "\u001b[1m237/237\u001b[0m \u001b[32m━━━━━━━━━━━━━━━━━━━━\u001b[0m\u001b[37m\u001b[0m \u001b[1m1s\u001b[0m 4ms/step - accuracy: 0.6562 - loss: 0.6101 - val_accuracy: 0.7964 - val_loss: 0.4387\n",
      "Epoch 9/50\n",
      "\u001b[1m237/237\u001b[0m \u001b[32m━━━━━━━━━━━━━━━━━━━━\u001b[0m\u001b[37m\u001b[0m \u001b[1m72s\u001b[0m 295ms/step - accuracy: 0.7859 - loss: 0.4321 - val_accuracy: 0.7864 - val_loss: 0.4047\n",
      "Epoch 10/50\n",
      "\u001b[1m237/237\u001b[0m \u001b[32m━━━━━━━━━━━━━━━━━━━━\u001b[0m\u001b[37m\u001b[0m \u001b[1m1s\u001b[0m 4ms/step - accuracy: 0.9062 - loss: 0.2482 - val_accuracy: 0.7854 - val_loss: 0.4014\n",
      "Epoch 11/50\n",
      "\u001b[1m237/237\u001b[0m \u001b[32m━━━━━━━━━━━━━━━━━━━━\u001b[0m\u001b[37m\u001b[0m \u001b[1m72s\u001b[0m 296ms/step - accuracy: 0.7977 - loss: 0.4163 - val_accuracy: 0.7917 - val_loss: 0.3909\n",
      "Epoch 12/50\n",
      "\u001b[1m237/237\u001b[0m \u001b[32m━━━━━━━━━━━━━━━━━━━━\u001b[0m\u001b[37m\u001b[0m \u001b[1m1s\u001b[0m 4ms/step - accuracy: 0.5938 - loss: 0.6069 - val_accuracy: 0.7922 - val_loss: 0.3909\n",
      "Epoch 13/50\n",
      "\u001b[1m237/237\u001b[0m \u001b[32m━━━━━━━━━━━━━━━━━━━━\u001b[0m\u001b[37m\u001b[0m \u001b[1m73s\u001b[0m 296ms/step - accuracy: 0.7892 - loss: 0.4135 - val_accuracy: 0.7896 - val_loss: 0.4467\n",
      "Epoch 14/50\n",
      "\u001b[1m237/237\u001b[0m \u001b[32m━━━━━━━━━━━━━━━━━━━━\u001b[0m\u001b[37m\u001b[0m \u001b[1m1s\u001b[0m 4ms/step - accuracy: 0.8438 - loss: 0.4414 - val_accuracy: 0.7912 - val_loss: 0.4214\n",
      "Epoch 15/50\n",
      "\u001b[1m237/237\u001b[0m \u001b[32m━━━━━━━━━━━━━━━━━━━━\u001b[0m\u001b[37m\u001b[0m \u001b[1m73s\u001b[0m 296ms/step - accuracy: 0.7887 - loss: 0.4214 - val_accuracy: 0.7922 - val_loss: 0.3793\n",
      "Epoch 16/50\n",
      "\u001b[1m237/237\u001b[0m \u001b[32m━━━━━━━━━━━━━━━━━━━━\u001b[0m\u001b[37m\u001b[0m \u001b[1m1s\u001b[0m 4ms/step - accuracy: 0.8125 - loss: 0.4481 - val_accuracy: 0.7922 - val_loss: 0.3796\n",
      "Epoch 17/50\n",
      "\u001b[1m237/237\u001b[0m \u001b[32m━━━━━━━━━━━━━━━━━━━━\u001b[0m\u001b[37m\u001b[0m \u001b[1m72s\u001b[0m 296ms/step - accuracy: 0.7912 - loss: 0.4176 - val_accuracy: 0.7917 - val_loss: 0.3772\n",
      "Epoch 18/50\n",
      "\u001b[1m237/237\u001b[0m \u001b[32m━━━━━━━━━━━━━━━━━━━━\u001b[0m\u001b[37m\u001b[0m \u001b[1m1s\u001b[0m 4ms/step - accuracy: 0.7500 - loss: 0.4462 - val_accuracy: 0.7906 - val_loss: 0.3790\n",
      "Epoch 19/50\n",
      "\u001b[1m237/237\u001b[0m \u001b[32m━━━━━━━━━━━━━━━━━━━━\u001b[0m\u001b[37m\u001b[0m \u001b[1m72s\u001b[0m 295ms/step - accuracy: 0.7896 - loss: 0.4052 - val_accuracy: 0.7896 - val_loss: 0.4549\n",
      "Epoch 20/50\n",
      "\u001b[1m237/237\u001b[0m \u001b[32m━━━━━━━━━━━━━━━━━━━━\u001b[0m\u001b[37m\u001b[0m \u001b[1m1s\u001b[0m 4ms/step - accuracy: 0.7812 - loss: 0.4305 - val_accuracy: 0.7843 - val_loss: 0.4826\n",
      "Epoch 21/50\n",
      "\u001b[1m237/237\u001b[0m \u001b[32m━━━━━━━━━━━━━━━━━━━━\u001b[0m\u001b[37m\u001b[0m \u001b[1m72s\u001b[0m 295ms/step - accuracy: 0.7927 - loss: 0.4091 - val_accuracy: 0.7991 - val_loss: 0.3870\n",
      "Epoch 22/50\n",
      "\u001b[1m237/237\u001b[0m \u001b[32m━━━━━━━━━━━━━━━━━━━━\u001b[0m\u001b[37m\u001b[0m \u001b[1m1s\u001b[0m 4ms/step - accuracy: 0.8438 - loss: 0.3640 - val_accuracy: 0.7996 - val_loss: 0.3824\n",
      "Epoch 23/50\n",
      "\u001b[1m237/237\u001b[0m \u001b[32m━━━━━━━━━━━━━━━━━━━━\u001b[0m\u001b[37m\u001b[0m \u001b[1m75s\u001b[0m 305ms/step - accuracy: 0.7996 - loss: 0.4038 - val_accuracy: 0.7975 - val_loss: 0.3715\n",
      "Epoch 24/50\n",
      "\u001b[1m237/237\u001b[0m \u001b[32m━━━━━━━━━━━━━━━━━━━━\u001b[0m\u001b[37m\u001b[0m \u001b[1m1s\u001b[0m 4ms/step - accuracy: 0.6875 - loss: 0.4784 - val_accuracy: 0.7927 - val_loss: 0.3751\n",
      "Epoch 25/50\n",
      "\u001b[1m237/237\u001b[0m \u001b[32m━━━━━━━━━━━━━━━━━━━━\u001b[0m\u001b[37m\u001b[0m \u001b[1m73s\u001b[0m 297ms/step - accuracy: 0.7951 - loss: 0.3943 - val_accuracy: 0.7938 - val_loss: 0.4183\n",
      "Epoch 26/50\n",
      "\u001b[1m237/237\u001b[0m \u001b[32m━━━━━━━━━━━━━━━━━━━━\u001b[0m\u001b[37m\u001b[0m \u001b[1m1s\u001b[0m 4ms/step - accuracy: 0.6875 - loss: 0.4707 - val_accuracy: 0.7927 - val_loss: 0.4227\n",
      "Epoch 27/50\n",
      "\u001b[1m237/237\u001b[0m \u001b[32m━━━━━━━━━━━━━━━━━━━━\u001b[0m\u001b[37m\u001b[0m \u001b[1m72s\u001b[0m 295ms/step - accuracy: 0.7932 - loss: 0.4051 - val_accuracy: 0.7896 - val_loss: 0.4282\n",
      "Epoch 28/50\n",
      "\u001b[1m237/237\u001b[0m \u001b[32m━━━━━━━━━━━━━━━━━━━━\u001b[0m\u001b[37m\u001b[0m \u001b[1m1s\u001b[0m 4ms/step - accuracy: 0.9375 - loss: 0.2457 - val_accuracy: 0.7896 - val_loss: 0.4226\n",
      "Epoch 29/50\n",
      "\u001b[1m237/237\u001b[0m \u001b[32m━━━━━━━━━━━━━━━━━━━━\u001b[0m\u001b[37m\u001b[0m \u001b[1m72s\u001b[0m 296ms/step - accuracy: 0.7950 - loss: 0.4118 - val_accuracy: 0.7943 - val_loss: 0.3658\n",
      "Epoch 30/50\n",
      "\u001b[1m237/237\u001b[0m \u001b[32m━━━━━━━━━━━━━━━━━━━━\u001b[0m\u001b[37m\u001b[0m \u001b[1m1s\u001b[0m 4ms/step - accuracy: 0.8750 - loss: 0.4036 - val_accuracy: 0.7927 - val_loss: 0.3658\n",
      "Epoch 31/50\n",
      "\u001b[1m237/237\u001b[0m \u001b[32m━━━━━━━━━━━━━━━━━━━━\u001b[0m\u001b[37m\u001b[0m \u001b[1m72s\u001b[0m 296ms/step - accuracy: 0.8022 - loss: 0.3979 - val_accuracy: 0.7906 - val_loss: 0.3670\n",
      "Epoch 32/50\n",
      "\u001b[1m237/237\u001b[0m \u001b[32m━━━━━━━━━━━━━━━━━━━━\u001b[0m\u001b[37m\u001b[0m \u001b[1m1s\u001b[0m 4ms/step - accuracy: 0.7812 - loss: 0.3445 - val_accuracy: 0.7912 - val_loss: 0.3630\n",
      "Epoch 33/50\n",
      "\u001b[1m237/237\u001b[0m \u001b[32m━━━━━━━━━━━━━━━━━━━━\u001b[0m\u001b[37m\u001b[0m \u001b[1m73s\u001b[0m 297ms/step - accuracy: 0.8024 - loss: 0.3840 - val_accuracy: 0.7954 - val_loss: 0.3678\n",
      "Epoch 34/50\n",
      "\u001b[1m237/237\u001b[0m \u001b[32m━━━━━━━━━━━━━━━━━━━━\u001b[0m\u001b[37m\u001b[0m \u001b[1m1s\u001b[0m 4ms/step - accuracy: 0.8438 - loss: 0.3717 - val_accuracy: 0.7964 - val_loss: 0.3714\n",
      "Epoch 35/50\n",
      "\u001b[1m237/237\u001b[0m \u001b[32m━━━━━━━━━━━━━━━━━━━━\u001b[0m\u001b[37m\u001b[0m \u001b[1m72s\u001b[0m 296ms/step - accuracy: 0.7907 - loss: 0.4061 - val_accuracy: 0.7996 - val_loss: 0.3915\n",
      "Epoch 36/50\n",
      "\u001b[1m237/237\u001b[0m \u001b[32m━━━━━━━━━━━━━━━━━━━━\u001b[0m\u001b[37m\u001b[0m \u001b[1m1s\u001b[0m 4ms/step - accuracy: 0.8750 - loss: 0.3462 - val_accuracy: 0.8001 - val_loss: 0.3878\n",
      "Epoch 37/50\n",
      "\u001b[1m237/237\u001b[0m \u001b[32m━━━━━━━━━━━━━━━━━━━━\u001b[0m\u001b[37m\u001b[0m \u001b[1m72s\u001b[0m 295ms/step - accuracy: 0.8051 - loss: 0.3758 - val_accuracy: 0.7980 - val_loss: 0.3699\n",
      "Epoch 38/50\n",
      "\u001b[1m237/237\u001b[0m \u001b[32m━━━━━━━━━━━━━━━━━━━━\u001b[0m\u001b[37m\u001b[0m \u001b[1m1s\u001b[0m 4ms/step - accuracy: 0.8125 - loss: 0.4122 - val_accuracy: 0.7954 - val_loss: 0.3697\n",
      "Epoch 39/50\n",
      "\u001b[1m237/237\u001b[0m \u001b[32m━━━━━━━━━━━━━━━━━━━━\u001b[0m\u001b[37m\u001b[0m \u001b[1m72s\u001b[0m 295ms/step - accuracy: 0.7989 - loss: 0.3865 - val_accuracy: 0.8085 - val_loss: 0.3515\n",
      "Epoch 40/50\n",
      "\u001b[1m237/237\u001b[0m \u001b[32m━━━━━━━━━━━━━━━━━━━━\u001b[0m\u001b[37m\u001b[0m \u001b[1m1s\u001b[0m 4ms/step - accuracy: 0.8750 - loss: 0.2887 - val_accuracy: 0.8096 - val_loss: 0.3517\n",
      "Epoch 41/50\n",
      "\u001b[1m237/237\u001b[0m \u001b[32m━━━━━━━━━━━━━━━━━━━━\u001b[0m\u001b[37m\u001b[0m \u001b[1m72s\u001b[0m 296ms/step - accuracy: 0.8027 - loss: 0.3822 - val_accuracy: 0.8117 - val_loss: 0.3745\n",
      "Epoch 42/50\n",
      "\u001b[1m237/237\u001b[0m \u001b[32m━━━━━━━━━━━━━━━━━━━━\u001b[0m\u001b[37m\u001b[0m \u001b[1m1s\u001b[0m 4ms/step - accuracy: 0.9062 - loss: 0.3884 - val_accuracy: 0.8117 - val_loss: 0.3708\n",
      "Epoch 43/50\n",
      "\u001b[1m237/237\u001b[0m \u001b[32m━━━━━━━━━━━━━━━━━━━━\u001b[0m\u001b[37m\u001b[0m \u001b[1m72s\u001b[0m 296ms/step - accuracy: 0.8011 - loss: 0.3847 - val_accuracy: 0.8022 - val_loss: 0.3594\n",
      "Epoch 44/50\n",
      "\u001b[1m237/237\u001b[0m \u001b[32m━━━━━━━━━━━━━━━━━━━━\u001b[0m\u001b[37m\u001b[0m \u001b[1m1s\u001b[0m 4ms/step - accuracy: 0.8438 - loss: 0.3731 - val_accuracy: 0.7985 - val_loss: 0.3543\n",
      "Epoch 45/50\n",
      "\u001b[1m237/237\u001b[0m \u001b[32m━━━━━━━━━━━━━━━━━━━━\u001b[0m\u001b[37m\u001b[0m \u001b[1m72s\u001b[0m 295ms/step - accuracy: 0.8014 - loss: 0.3816 - val_accuracy: 0.7980 - val_loss: 0.3467\n",
      "Epoch 46/50\n",
      "\u001b[1m237/237\u001b[0m \u001b[32m━━━━━━━━━━━━━━━━━━━━\u001b[0m\u001b[37m\u001b[0m \u001b[1m1s\u001b[0m 4ms/step - accuracy: 0.8125 - loss: 0.4050 - val_accuracy: 0.8006 - val_loss: 0.3422\n",
      "Epoch 47/50\n",
      "\u001b[1m237/237\u001b[0m \u001b[32m━━━━━━━━━━━━━━━━━━━━\u001b[0m\u001b[37m\u001b[0m \u001b[1m72s\u001b[0m 294ms/step - accuracy: 0.8067 - loss: 0.3650 - val_accuracy: 0.7954 - val_loss: 0.3681\n",
      "Epoch 48/50\n",
      "\u001b[1m237/237\u001b[0m \u001b[32m━━━━━━━━━━━━━━━━━━━━\u001b[0m\u001b[37m\u001b[0m \u001b[1m1s\u001b[0m 4ms/step - accuracy: 0.9062 - loss: 0.3304 - val_accuracy: 0.7948 - val_loss: 0.3628\n",
      "Epoch 49/50\n",
      "\u001b[1m237/237\u001b[0m \u001b[32m━━━━━━━━━━━━━━━━━━━━\u001b[0m\u001b[37m\u001b[0m \u001b[1m72s\u001b[0m 294ms/step - accuracy: 0.7936 - loss: 0.4096 - val_accuracy: 0.7838 - val_loss: 0.4062\n",
      "Epoch 50/50\n",
      "\u001b[1m237/237\u001b[0m \u001b[32m━━━━━━━━━━━━━━━━━━━━\u001b[0m\u001b[37m\u001b[0m \u001b[1m1s\u001b[0m 4ms/step - accuracy: 0.7188 - loss: 0.4121 - val_accuracy: 0.7880 - val_loss: 0.4008\n"
     ]
    },
    {
     "data": {
      "image/png": "[encoded data removed]",
      "text/plain": [
       "<Figure size 640x480 with 1 Axes>"
      ]
     },
     "metadata": {},
     "output_type": "display_data"
    },
    {
     "name": "stdout",
     "output_type": "stream",
     "text": [
      "\u001b[1m  1/238\u001b[0m \u001b[37m━━━━━━━━━━━━━━━━━━━━\u001b[0m \u001b[1m3:21\u001b[0m 848ms/step - accuracy: 0.7500 - loss: 0.3269"
     ]
    },
    {
     "name": "stderr",
     "output_type": "stream",
     "text": [
      "W0000 00:00:1712913822.206662      72 graph_launch.cc:671] Fallback to op-by-op mode because memset node breaks graph update\n"
     ]
    },
    {
     "name": "stdout",
     "output_type": "stream",
     "text": [
      "\u001b[1m238/238\u001b[0m \u001b[32m━━━━━━━━━━━━━━━━━━━━\u001b[0m\u001b[37m\u001b[0m \u001b[1m70s\u001b[0m 293ms/step - accuracy: 0.8055 - loss: 0.3740\n",
      "\u001b[1m60/60\u001b[0m \u001b[32m━━━━━━━━━━━━━━━━━━━━\u001b[0m\u001b[37m\u001b[0m \u001b[1m1s\u001b[0m 17ms/step - accuracy: 0.7707 - loss: 0.4114\n",
      "RDCN Training Loss: 0.3703, Training Accuracy: 0.8095\n",
      "RDCN Validation Loss: 0.4008, Validation Accuracy: 0.7880\n"
     ]
    }
   ],
   "source": [
    "import matplotlib.pyplot as plt\n",
    "\n",
    "# Train the RDCN model\n",
    "history = rdcn_model.fit(train_generator, validation_data=(X_val, y_val), epochs=50, steps_per_epoch=len(X_train) // 32)\n",
    "\n",
    "# Plot training and validation accuracies\n",
    "plt.plot(history.history['accuracy'], label='Training Accuracy')\n",
    "plt.plot(history.history['val_accuracy'], label='Validation Accuracy')\n",
    "plt.xlabel('Epoch')\n",
    "plt.ylabel('Accuracy')\n",
    "plt.title('Training and Validation Accuracies')\n",
    "plt.legend()\n",
    "plt.show()\n",
    "\n",
    "# Evaluate the RDCN model\n",
    "rdcn_train_loss, rdcn_train_acc = rdcn_model.evaluate(train_generator)\n",
    "rdcn_val_loss, rdcn_val_acc = rdcn_model.evaluate(X_val, y_val)\n",
    "\n",
    "print(f'RDCN Training Loss: {rdcn_train_loss:.4f}, Training Accuracy: {rdcn_train_acc:.4f}')\n",
    "print(f'RDCN Validation Loss: {rdcn_val_loss:.4f}, Validation Accuracy: {rdcn_val_acc:.4f}')\n"
   ]
  }
 ],
 "metadata": {
  "kaggle": {
   "accelerator": "nvidiaTeslaT4",
   "dataSources": [
    {
     "datasetId": 1226991,
     "sourceId": 2048184,
     "sourceType": "datasetVersion"
    }
   ],
   "dockerImageVersionId": 30684,
   "isGpuEnabled": true,
   "isInternetEnabled": true,
   "language": "python",
   "sourceType": "notebook"
  },
  "kernelspec": {
   "display_name": "Python 3",
   "language": "python",
   "name": "python3"
  },
  "language_info": {
   "codemirror_mode": {
    "name": "ipython",
    "version": 3
   },
   "file_extension": ".py",
   "mimetype": "text/x-python",
   "name": "python",
   "nbconvert_exporter": "python",
   "pygments_lexer": "ipython3",
   "version": "3.10.13"
  },
  "papermill": {
   "default_parameters": {},
   "duration": 3912.90909,
   "end_time": "2024-04-12T09:25:00.228274",
   "environment_variables": {},
   "exception": null,
   "input_path": "__notebook__.ipynb",
   "output_path": "__notebook__.ipynb",
   "parameters": {},
   "start_time": "2024-04-12T08:19:47.319184",
   "version": "2.5.0"
  }
 },
 "nbformat": 4,
 "nbformat_minor": 5
}
