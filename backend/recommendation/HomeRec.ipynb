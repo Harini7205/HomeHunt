{
  "cells": [
    {
      "cell_type": "code",
      "execution_count": 16,
      "metadata": {
        "id": "FIpyJk4IPzRg"
      },
      "outputs": [
        {
          "data": {
            "text/plain": [
              "['scaler.pkl']"
            ]
          },
          "execution_count": 16,
          "metadata": {},
          "output_type": "execute_result"
        }
      ],
      "source": [
        "import pandas as pd\n",
        "from sklearn.preprocessing import MinMaxScaler, LabelEncoder\n",
        "from sklearn.neighbors import NearestNeighbors\n",
        "import joblib\n",
        "\n",
        "# Load the dataset\n",
        "data = pd.read_csv('tamilnadu_property_dataset.csv')\n",
        "\n",
        "# Select relevant features\n",
        "data = data[['title', 'location', 'price', 'size', 'rooms', 'type', 'bathroom', 'parking']]\n",
        "\n",
        "# Handle missing values\n",
        "data = data.dropna()\n",
        "\n",
        "# Convert categorical features to numerical values\n",
        "label_encoders = {}\n",
        "for column in ['type', 'parking', 'location']:\n",
        "    le = LabelEncoder()\n",
        "    data[column] = le.fit_transform(data[column])\n",
        "    label_encoders[column] = le\n",
        "\n",
        "# Normalize numerical features\n",
        "scaler = MinMaxScaler()\n",
        "numeric_features = ['price', 'size', 'rooms', 'bathroom']\n",
        "normalized_features = scaler.fit_transform(data[numeric_features])\n",
        "\n",
        "# Create a DataFrame with normalized features\n",
        "normalized_data = pd.DataFrame(normalized_features, columns=numeric_features)\n",
        "\n",
        "# Initialize KNN model\n",
        "knn = NearestNeighbors(n_neighbors=5, algorithm='auto').fit(normalized_data)\n",
        "\n",
        "# Save the model\n",
        "joblib.dump(knn, 'house_recommendation_model.pkl')\n",
        "joblib.dump(scaler, 'scaler.pkl')  # Save the scaler for normalization\n"
      ]
    },
    {
      "cell_type": "code",
      "execution_count": 17,
      "metadata": {},
      "outputs": [],
      "source": [
        "def recommend_houses(user_preferences):\n",
        "    \"\"\"\n",
        "    Recommend houses based on user preferences.\n",
        "\n",
        "    :param user_preferences: A list of user preference values for features\n",
        "    :return: DataFrame of recommended houses\n",
        "    \"\"\"\n",
        "    # Normalize user preferences\n",
        "    user_normalized = scaler.transform([user_preferences])\n",
        "\n",
        "    # Find nearest neighbors\n",
        "    distances, indices = knn.kneighbors(user_normalized)\n",
        "\n",
        "    # Get recommended houses\n",
        "    recommendations = data.iloc[indices[0]]\n",
        "    return recommendations"
      ]
    }
  ],
  "metadata": {
    "colab": {
      "provenance": []
    },
    "kernelspec": {
      "display_name": "Python 3",
      "name": "python3"
    },
    "language_info": {
      "codemirror_mode": {
        "name": "ipython",
        "version": 3
      },
      "file_extension": ".py",
      "mimetype": "text/x-python",
      "name": "python",
      "nbconvert_exporter": "python",
      "pygments_lexer": "ipython3",
      "version": "3.12.5"
    }
  },
  "nbformat": 4,
  "nbformat_minor": 0
}
